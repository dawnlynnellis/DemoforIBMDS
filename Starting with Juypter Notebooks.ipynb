{
    "cells": [
        {
            "cell_type": "markdown",
            "metadata": {},
            "source": "Description: Using Data and built in scripts"
        },
        {
            "cell_type": "code",
            "execution_count": 5,
            "metadata": {},
            "outputs": [
                {
                    "data": {
                        "text/html": "<div>\n<style scoped>\n    .dataframe tbody tr th:only-of-type {\n        vertical-align: middle;\n    }\n\n    .dataframe tbody tr th {\n        vertical-align: top;\n    }\n\n    .dataframe thead th {\n        text-align: right;\n    }\n</style>\n<table border=\"1\" class=\"dataframe\">\n  <thead>\n    <tr style=\"text-align: right;\">\n      <th></th>\n      <th>COOPID</th>\n      <th>YEAR</th>\n      <th>MONTH</th>\n      <th>DAY</th>\n      <th>precipitation</th>\n    </tr>\n  </thead>\n  <tbody>\n    <tr>\n      <th>0</th>\n      <td>87826</td>\n      <td>1973</td>\n      <td>1</td>\n      <td>1</td>\n      <td>-99.99</td>\n    </tr>\n    <tr>\n      <th>1</th>\n      <td>87826</td>\n      <td>1973</td>\n      <td>1</td>\n      <td>2</td>\n      <td>-99.99</td>\n    </tr>\n    <tr>\n      <th>2</th>\n      <td>87826</td>\n      <td>1973</td>\n      <td>1</td>\n      <td>3</td>\n      <td>-99.99</td>\n    </tr>\n    <tr>\n      <th>3</th>\n      <td>87826</td>\n      <td>1973</td>\n      <td>1</td>\n      <td>4</td>\n      <td>-99.99</td>\n    </tr>\n    <tr>\n      <th>4</th>\n      <td>87826</td>\n      <td>1973</td>\n      <td>1</td>\n      <td>5</td>\n      <td>-99.99</td>\n    </tr>\n  </tbody>\n</table>\n</div>",
                        "text/plain": "   COOPID   YEAR   MONTH   DAY   precipitation\n0   87826   1973       1     1          -99.99\n1   87826   1973       1     2          -99.99\n2   87826   1973       1     3          -99.99\n3   87826   1973       1     4          -99.99\n4   87826   1973       1     5          -99.99"
                    },
                    "execution_count": 5,
                    "metadata": {},
                    "output_type": "execute_result"
                }
            ],
            "source": "# The code was removed by Watson Studio for sharing."
        },
        {
            "cell_type": "code",
            "execution_count": null,
            "metadata": {},
            "outputs": [],
            "source": ""
        }
    ],
    "metadata": {
        "kernelspec": {
            "display_name": "Python 3.6",
            "language": "python",
            "name": "python3"
        },
        "language_info": {
            "codemirror_mode": {
                "name": "ipython",
                "version": 3
            },
            "file_extension": ".py",
            "mimetype": "text/x-python",
            "name": "python",
            "nbconvert_exporter": "python",
            "pygments_lexer": "ipython3",
            "version": "3.6.9"
        }
    },
    "nbformat": 4,
    "nbformat_minor": 1
}